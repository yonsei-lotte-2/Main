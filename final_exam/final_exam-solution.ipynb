{
 "cells": [
  {
   "cell_type": "markdown",
   "metadata": {},
   "source": [
    "# 빅데이터 분석 프로그래밍 기말평가\n",
    "- 모든 답에 계산된 값(숫자나 텍스트)를 직접 입력하는 것은 오답으로 처리됩니다!\n",
    "- 25문제 각 4점"
   ]
  },
  {
   "cell_type": "markdown",
   "metadata": {},
   "source": [
    "## 1. 학번과 이름 출력하기"
   ]
  },
  {
   "cell_type": "code",
   "execution_count": 1,
   "metadata": {},
   "outputs": [
    {
     "name": "stdout",
     "output_type": "stream",
     "text": [
      "안녕하세요 제 이름은 000이고, 학번은 0000000입니다\n"
     ]
    }
   ],
   "source": [
    "student_id = '서중원'\n",
    "student_name = '2009147090'\n",
    "\n",
    "print(\"안녕하세요 제 이름은 000이고, 학번은 0000000입니다\")"
   ]
  },
  {
   "cell_type": "markdown",
   "metadata": {},
   "source": [
    "## 2. 소수점 둘째자리 까지만 표현"
   ]
  },
  {
   "cell_type": "code",
   "execution_count": 2,
   "metadata": {},
   "outputs": [
    {
     "name": "stdout",
     "output_type": "stream",
     "text": [
      "저의 몸무게는 70.43kg입니다\n"
     ]
    }
   ],
   "source": [
    "weight = 70.4346\n",
    "\n",
    "print(\"저의 몸무게는 {:0.2f}kg입니다\".format(weight))"
   ]
  },
  {
   "cell_type": "markdown",
   "metadata": {},
   "source": [
    "## 3. 다음 코드의 문제를 해결해주세요\n",
    "- 빵하나의 가격이 500원 입니다. 전체 빵을 5개를 샀을 때의 가격은?"
   ]
  },
  {
   "cell_type": "code",
   "execution_count": 3,
   "metadata": {},
   "outputs": [
    {
     "name": "stdout",
     "output_type": "stream",
     "text": [
      "2500\n"
     ]
    }
   ],
   "source": [
    "price = 500\n",
    "num_of_bread = \"5\"\n",
    "\n",
    "total_price = price*int(num_of_bread)\n",
    "print(total_price)"
   ]
  },
  {
   "cell_type": "markdown",
   "metadata": {},
   "source": [
    "## 4. 비트코인 가격 계산\n",
    "- 비트코인을 34000달러에 10개를 구매했습니다. 현재 가격 37000달러에 5.5개를 팔았다면, 미실현 손익은 얼마입니까?\n",
    "- 미실현손익: 현재 지니고 있는 수량에 대한 손익\n",
    "- 모든 변수를 다 활요해주세요"
   ]
  },
  {
   "cell_type": "code",
   "execution_count": 4,
   "metadata": {},
   "outputs": [
    {
     "name": "stdout",
     "output_type": "stream",
     "text": [
      "13500.0\n"
     ]
    }
   ],
   "source": [
    "starting_price = 34000\n",
    "ending_price = 37000\n",
    "num_of_btc = 10\n",
    "num_of_selling = 5.5\n",
    "\n",
    "#TODO\n",
    "profit = (ending_price-starting_price)*(num_of_btc-num_of_selling)\n",
    "print(profit)"
   ]
  },
  {
   "cell_type": "markdown",
   "metadata": {},
   "source": [
    "## 5. 다음 문자열 \"빅데이터 분석 프로그래밍\"에서 \"분\",와 \"밍\"만 출력해주세요\n",
    "- 문자를 직접 입력하면 오답"
   ]
  },
  {
   "cell_type": "code",
   "execution_count": 5,
   "metadata": {},
   "outputs": [
    {
     "name": "stdout",
     "output_type": "stream",
     "text": [
      "분 밍\n"
     ]
    }
   ],
   "source": [
    "text = \"빅데이터 분석 프로그래밍\"\n",
    "print(text[5],text[-1])"
   ]
  },
  {
   "cell_type": "markdown",
   "metadata": {},
   "source": [
    "## 6. 다음 문자열에서 9876부분만 추출해주세요\n",
    "- 문자를 직접 입력하면 오답"
   ]
  },
  {
   "cell_type": "code",
   "execution_count": 6,
   "metadata": {},
   "outputs": [
    {
     "name": "stdout",
     "output_type": "stream",
     "text": [
      "9876\n"
     ]
    }
   ],
   "source": [
    "text = \"02-9876-1234\"\n",
    "print(text[3:7])"
   ]
  },
  {
   "cell_type": "markdown",
   "metadata": {},
   "source": [
    "## 7. 다음 문자열에서 홀수들만 출력하세요\n",
    "- 직접 입력시 오답"
   ]
  },
  {
   "cell_type": "code",
   "execution_count": 7,
   "metadata": {},
   "outputs": [
    {
     "name": "stdout",
     "output_type": "stream",
     "text": [
      "13579\n"
     ]
    }
   ],
   "source": [
    "text = \"0123456789\"\n",
    "print(text[1::2])"
   ]
  },
  {
   "cell_type": "markdown",
   "metadata": {},
   "source": [
    "## 8. 다음 문자열을 역순으로 바꿔주세요.\n",
    "- 직접 입력시 오답"
   ]
  },
  {
   "cell_type": "code",
   "execution_count": 8,
   "metadata": {},
   "outputs": [
    {
     "name": "stdout",
     "output_type": "stream",
     "text": [
      "ZYXWVUTSRQPONMLKJIHGFEDCBA\n"
     ]
    }
   ],
   "source": [
    "text = \"ABCDEFGHIJKLMNOPQRSTUVWXYZ\"\n",
    "print(text[::-1])"
   ]
  },
  {
   "cell_type": "markdown",
   "metadata": {},
   "source": [
    "## 10. 다음 URL 들의 프로토콜(http 또는 https) 부분을 출력해주세요\n",
    "- 슬라이싱으로 접근하면 오답\n",
    "- 나와야 하는 답: https, https, http"
   ]
  },
  {
   "cell_type": "code",
   "execution_count": 9,
   "metadata": {},
   "outputs": [
    {
     "name": "stdout",
     "output_type": "stream",
     "text": [
      "https\n",
      "https\n",
      "http\n"
     ]
    }
   ],
   "source": [
    "url = \"https://google.com\"\n",
    "print(url.split(\":\")[0])\n",
    "url = \"https://www.yonsei.ac.kr\"\n",
    "print(url.split(\":\")[0])\n",
    "url = \"http://www.president.go.kr/\"\n",
    "print(url.split(\":\")[0])"
   ]
  },
  {
   "cell_type": "markdown",
   "metadata": {},
   "source": [
    "## 11. 다음 리스트를 오름차순으로 정렬해주세요"
   ]
  },
  {
   "cell_type": "code",
   "execution_count": 10,
   "metadata": {},
   "outputs": [
    {
     "name": "stdout",
     "output_type": "stream",
     "text": [
      "[0, 1, 1, 2, 3, 4, 5, 7, 8]\n"
     ]
    }
   ],
   "source": [
    "a = [1,8,5,3,0,1,2,4,7]\n",
    "print(sorted(a))"
   ]
  },
  {
   "cell_type": "markdown",
   "metadata": {},
   "source": [
    "## 12. 다음 리스트에서 1의 개수를 구해주세요\n",
    "- for문 사용시 오답"
   ]
  },
  {
   "cell_type": "code",
   "execution_count": 11,
   "metadata": {},
   "outputs": [
    {
     "name": "stdout",
     "output_type": "stream",
     "text": [
      "6\n"
     ]
    }
   ],
   "source": [
    "a =[2,3,4,'1','11','123','1','1',33,'1','1','1',]\n",
    "num_of_str_one = a.count('1')\n",
    "print(num_of_str_one)"
   ]
  },
  {
   "cell_type": "markdown",
   "metadata": {},
   "source": [
    "## 13. 다음 리스트들의 중간 인덱스에 위치한 값을 출력해주세요\n",
    "- index를 직접 입력하면 오답\n",
    "- len 을 활용해주세요"
   ]
  },
  {
   "cell_type": "code",
   "execution_count": 12,
   "metadata": {},
   "outputs": [
    {
     "name": "stdout",
     "output_type": "stream",
     "text": [
      "4.0\n",
      "2.0\n"
     ]
    }
   ],
   "source": [
    "a = [1,2,3,4,5,6,7]\n",
    "#TODO\n",
    "middle_a = (a[len(a)//2]+a[((len(a)-1)//2)])/2\n",
    "print(middle_a)\n",
    "\n",
    "b = [1,1,1,2,1,1,1]\n",
    "#TODO\n",
    "middle_b = (b[len(b)//2]+b[((len(b)-1)//2)])/2\n",
    "print(middle_b)"
   ]
  },
  {
   "cell_type": "markdown",
   "metadata": {},
   "source": [
    "## 14. 다음 리스트의 중위값을 구해주세요\n",
    "- 중위값은 평균과 다르게, 전체 데이터를 순서대로 정렬했을 때 중간에 있는 값을 의미합니다.\n",
    "- 마찬가지로 인덱스를 직접 고르면 오답"
   ]
  },
  {
   "cell_type": "code",
   "execution_count": 13,
   "metadata": {},
   "outputs": [
    {
     "name": "stdout",
     "output_type": "stream",
     "text": [
      "46.0\n"
     ]
    }
   ],
   "source": [
    "a = [21,20,35,46,533,62,71]\n",
    "#TODO\n",
    "a = sorted(a)\n",
    "median = (a[len(a)//2]+a[((len(a)-1)//2)])/2\n",
    "print(median)"
   ]
  },
  {
   "cell_type": "markdown",
   "metadata": {},
   "source": [
    "## 15. 다음 Dictionary의 DOGE 코인의 가격을 10% 상승된 가격으로 업데이트 해주세요.\n",
    "- 220원을 직접 입력하면 오답\n",
    "- float, int 상관없음"
   ]
  },
  {
   "cell_type": "code",
   "execution_count": 14,
   "metadata": {},
   "outputs": [
    {
     "name": "stdout",
     "output_type": "stream",
     "text": [
      "BEFORE: {'BTC': 38000000, 'ETH': 2300000, 'XRP': 600, 'DOGE': 200}\n",
      "AFTER : {'BTC': 38000000, 'ETH': 2300000, 'XRP': 600, 'DOGE': 220.0}\n"
     ]
    }
   ],
   "source": [
    "coins = {\n",
    "    \"BTC\": 38000000,\n",
    "    \"ETH\": 2300000,\n",
    "    \"XRP\": 600,\n",
    "    \"DOGE\": 200\n",
    "}\n",
    "print(\"BEFORE:\", coins)\n",
    "\n",
    "#TODO\n",
    "coins['DOGE'] += coins['DOGE']*0.1\n",
    "print(\"AFTER :\", coins)"
   ]
  },
  {
   "cell_type": "markdown",
   "metadata": {},
   "source": [
    "## 16. 다음 주어진 user_list 리스트에 서울지역 회원들만 추가해주세요"
   ]
  },
  {
   "cell_type": "code",
   "execution_count": 15,
   "metadata": {},
   "outputs": [
    {
     "name": "stdout",
     "output_type": "stream",
     "text": [
      "서울_남_23\n",
      "서울_여_31\n",
      "['서울_남_23', '서울_여_31']\n"
     ]
    }
   ],
   "source": [
    "users = [\"서울_남_23\", \"경기_여_33\", \"대전_남_12\", \"부산_여_26\",\"서울_여_31\"]\n",
    "user_list = []\n",
    "for user in users:\n",
    "    if \"서울\" in user:\n",
    "        print(user)\n",
    "        user_list.append(user)\n",
    "    \n",
    "print(user_list)"
   ]
  },
  {
   "cell_type": "markdown",
   "metadata": {},
   "source": [
    "## 17. 다음 동물들을 종류별로 세주세요.\n",
    "- for문을 사용해주세요"
   ]
  },
  {
   "cell_type": "code",
   "execution_count": 16,
   "metadata": {},
   "outputs": [
    {
     "name": "stdout",
     "output_type": "stream",
     "text": [
      "{'호랑이': 3, '고양이': 1, '당나귀': 1, '말': 2, '곰': 2, '개': 1}\n"
     ]
    }
   ],
   "source": [
    "a =[\"호랑이\",\"고양이\",\"호랑이\",\"당나귀\",\"말\",\"곰\",\"개\",\"말\",\"곰\",\"호랑이\"]\n",
    "a_dict = {}\n",
    "#TODO\n",
    "for animal in a:\n",
    "    a_dict[animal] = a.count(animal)\n",
    "print(a_dict)"
   ]
  },
  {
   "cell_type": "markdown",
   "metadata": {},
   "source": [
    "## 18. 다음 dictionary를 점수의 내림차순으로 정렬하고, 같은 점수의 경우 가나다 순으로 정렬해주세요"
   ]
  },
  {
   "cell_type": "code",
   "execution_count": 17,
   "metadata": {},
   "outputs": [
    {
     "name": "stdout",
     "output_type": "stream",
     "text": [
      "[('김연아', 99), ('류현진', 99), ('김연경', 30), ('손흥민', 30)]\n"
     ]
    }
   ],
   "source": [
    "scores = {\n",
    "    \"손흥민\": 30,\n",
    "    \"김연경\": 30,\n",
    "    \"류현진\": 99,\n",
    "    \"김연아\": 99\n",
    "\n",
    "}\n",
    "#TODO\n",
    "score_sorted = sorted(scores.items(), key=lambda kv :(-kv[1],kv[0]))\n",
    "\n",
    "print(score_sorted)"
   ]
  },
  {
   "cell_type": "markdown",
   "metadata": {},
   "source": [
    "## 19. 다음 리스트의 원소의 개수가 홀수개인지 짝수개인지 구하는 함수를 완성해주세요."
   ]
  },
  {
   "cell_type": "code",
   "execution_count": 18,
   "metadata": {},
   "outputs": [
    {
     "name": "stdout",
     "output_type": "stream",
     "text": [
      "a는 짝수개인가요? True\n",
      "b는 짝수개인가요? False\n"
     ]
    }
   ],
   "source": [
    "a = [1,2,3,4,5,6,7,8]\n",
    "b = [1,2,3,4,5]\n",
    "\n",
    "def check(l):\n",
    "    if len(l)%2 == 0:\n",
    "        return True\n",
    "    return False\n",
    "\n",
    "print(\"a는 짝수개인가요?\", check(a))\n",
    "print(\"b는 짝수개인가요?\", check(b))"
   ]
  },
  {
   "cell_type": "markdown",
   "metadata": {},
   "source": [
    "## 20. 다음 비트코인 API 결과에서 last_price를 추출해주세요"
   ]
  },
  {
   "cell_type": "code",
   "execution_count": 19,
   "metadata": {},
   "outputs": [
    {
     "name": "stdout",
     "output_type": "stream",
     "text": [
      "{'ret_code': 0, 'ret_msg': 'OK', 'ext_code': '', 'ext_info': '', 'result': [{'symbol': 'BTCUSD', 'bid_price': '43500', 'ask_price': '43500.5', 'last_price': '43500.50', 'last_tick_direction': 'PlusTick', 'prev_price_24h': '45300.00', 'price_24h_pcnt': '-0.039724', 'high_price_24h': '45320.00', 'low_price_24h': '42810.00', 'prev_price_1h': '43420.00', 'price_1h_pcnt': '0.001853', 'mark_price': '43510.68', 'index_price': '43510.30', 'open_interest': 1055079590, 'open_value': '14616.80', 'total_turnover': '90123791.15', 'turnover_24h': '136623.02', 'total_volume': 2020025954552, 'volume_24h': 6023698914, 'funding_rate': '0.0001', 'predicted_funding_rate': '0.000065', 'next_funding_time': '2021-08-09T08:00:00Z', 'countdown_hour': 1, 'delivery_fee_rate': '0', 'predicted_delivery_price': '', 'delivery_time': ''}], 'time_now': '1628493469.242429'}\n",
      "LAST PRICE: 43500.50\n"
     ]
    }
   ],
   "source": [
    "import requests\n",
    "btc = requests.get(\"https://api.bybit.com/v2/public/tickers?symbol=BTCUSD\").json()\n",
    "print(btc)\n",
    "\n",
    "last_price = btc['result'][0]['last_price']\n",
    "print(\"LAST PRICE:\",last_price)"
   ]
  },
  {
   "cell_type": "markdown",
   "metadata": {},
   "source": [
    "## 21. 다음 위키피디아 페이지에서 img 엘리먼트를 모두 추출해주세요"
   ]
  },
  {
   "cell_type": "code",
   "execution_count": 20,
   "metadata": {
    "scrolled": true
   },
   "outputs": [
    {
     "name": "stdout",
     "output_type": "stream",
     "text": [
      "<img alt=\"\" aria-hidden=\"true\" class=\"mw-logo-icon\" height=\"50\" src=\"/static/images/mobile/copyright/wikipedia.png\" width=\"50\"/>\n",
      "<img alt=\"위키백과\" class=\"mw-logo-wordmark\" height=\"25\" src=\"/static/images/mobile/copyright/wikipedia-wordmark-ko.svg\" width=\"106\"/>\n",
      "<img alt=\"\" class=\"mw-logo-tagline\" height=\"11\" src=\"/static/images/mobile/copyright/wikipedia-tagline-ko.svg\" width=\"106\"/>\n",
      "<img alt=\"\" class=\"thumbimage\" data-file-height=\"964\" data-file-width=\"1280\" decoding=\"async\" height=\"166\" src=\"//upload.wikimedia.org/wikipedia/commons/thumb/6/69/Viegas-UserActivityonWikipedia.gif/220px-Viegas-UserActivityonWikipedia.gif\" srcset=\"//upload.wikimedia.org/wikipedia/commons/thumb/6/69/Viegas-UserActivityonWikipedia.gif/330px-Viegas-UserActivityonWikipedia.gif 1.5x, //upload.wikimedia.org/wikipedia/commons/thumb/6/69/Viegas-UserActivityonWikipedia.gif/440px-Viegas-UserActivityonWikipedia.gif 2x\" width=\"220\"/>\n",
      "<img alt=\"\" class=\"thumbimage\" data-file-height=\"720\" data-file-width=\"960\" decoding=\"async\" height=\"165\" src=\"//upload.wikimedia.org/wikipedia/commons/thumb/7/7c/Hilbert_InfoGrowth.png/220px-Hilbert_InfoGrowth.png\" srcset=\"//upload.wikimedia.org/wikipedia/commons/thumb/7/7c/Hilbert_InfoGrowth.png/330px-Hilbert_InfoGrowth.png 1.5x, //upload.wikimedia.org/wikipedia/commons/thumb/7/7c/Hilbert_InfoGrowth.png/440px-Hilbert_InfoGrowth.png 2x\" width=\"220\"/>\n",
      "<img alt=\"\" data-file-height=\"1376\" data-file-width=\"1024\" decoding=\"async\" height=\"40\" src=\"//upload.wikimedia.org/wikipedia/commons/thumb/4/4a/Commons-logo.svg/30px-Commons-logo.svg.png\" srcset=\"//upload.wikimedia.org/wikipedia/commons/thumb/4/4a/Commons-logo.svg/45px-Commons-logo.svg.png 1.5x, //upload.wikimedia.org/wikipedia/commons/thumb/4/4a/Commons-logo.svg/59px-Commons-logo.svg.png 2x\" width=\"30\"/>\n",
      "<img alt=\"위키데이터에서 편집하기\" data-file-height=\"20\" data-file-width=\"20\" decoding=\"async\" height=\"10\" src=\"//upload.wikimedia.org/wikipedia/commons/thumb/8/8a/OOjs_UI_icon_edit-ltr-progressive.svg/10px-OOjs_UI_icon_edit-ltr-progressive.svg.png\" srcset=\"//upload.wikimedia.org/wikipedia/commons/thumb/8/8a/OOjs_UI_icon_edit-ltr-progressive.svg/15px-OOjs_UI_icon_edit-ltr-progressive.svg.png 1.5x, //upload.wikimedia.org/wikipedia/commons/thumb/8/8a/OOjs_UI_icon_edit-ltr-progressive.svg/20px-OOjs_UI_icon_edit-ltr-progressive.svg.png 2x\" style=\"vertical-align: text-top\" width=\"10\"/>\n",
      "<img alt=\"\" height=\"1\" src=\"//ko.wikipedia.org/wiki/Special:CentralAutoLogin/start?type=1x1\" style=\"border: none; position: absolute;\" title=\"\" width=\"1\"/>\n",
      "<img alt=\"Wikimedia Foundation\" height=\"31\" loading=\"lazy\" src=\"/static/images/footer/wikimedia-button.png\" srcset=\"/static/images/footer/wikimedia-button-1.5x.png 1.5x, /static/images/footer/wikimedia-button-2x.png 2x\" width=\"88\"/>\n",
      "<img alt=\"Powered by MediaWiki\" height=\"31\" loading=\"lazy\" src=\"/static/images/footer/poweredby_mediawiki_88x31.png\" srcset=\"/static/images/footer/poweredby_mediawiki_132x47.png 1.5x, /static/images/footer/poweredby_mediawiki_176x62.png 2x\" width=\"88\"/>\n"
     ]
    }
   ],
   "source": [
    "from bs4 import BeautifulSoup\n",
    "\n",
    "url = \"https://ko.wikipedia.org/wiki/%EB%B9%85_%EB%8D%B0%EC%9D%B4%ED%84%B0\"\n",
    "res = requests.get(url)\n",
    "soup = BeautifulSoup(res.text, 'html.parser')\n",
    "#TODO\n",
    "img_tags = soup.find_all('img')\n",
    "for img in img_tags:\n",
    "    print(img)"
   ]
  },
  {
   "cell_type": "markdown",
   "metadata": {},
   "source": [
    "## 22. 다음 문장에서 불용어를 모두 제거해주세요.\n",
    "- 대소문자를 구별하지 않습니다"
   ]
  },
  {
   "cell_type": "code",
   "execution_count": 21,
   "metadata": {},
   "outputs": [
    {
     "name": "stdout",
     "output_type": "stream",
     "text": [
      "Big data field treats ways analyze systematically extract information from otherwise deal data sets too large complex dealt traditional data-processing application software Data many fields columns offer greater statistical power while data higher complexity more attributes columns may lead higher false discovery rate Big data analysis challenges include capturing data data storage data analysis search sharing transfer visualization querying updating information privacy data source\n"
     ]
    }
   ],
   "source": [
    "text = \"\"\"\n",
    "Big data is a field that treats ways to analyze, \n",
    "systematically extract information from, \n",
    "or otherwise deal with data sets that are too large or complex to be dealt with \n",
    "by traditional data-processing application software. Data with many fields (columns) \n",
    "offer greater statistical power, while data with higher complexity \n",
    "(more attributes or columns) may lead to a higher false discovery rate.\n",
    "Big data analysis challenges include capturing data, data storage, data analysis, search, sharing, \n",
    "transfer, visualization, querying, updating, information privacy, and data source.\"\"\"\n",
    "\n",
    "stop_words = [\"IS\", \"A\", \"THAT\",\"TO\", \"WITH\",\"OR\", \"ARE\", \"AND\", \"BY\", \"BE\"]\n",
    "\n",
    "#TODO\n",
    "text = text.replace(\".\",\"\").replace(\"(\",\"\").replace(\")\",\"\").replace(\",\",\"\")\n",
    "text_list = []\n",
    "for word in text.split():\n",
    "\n",
    "    if word.upper() in stop_words:\n",
    "        continue\n",
    "    text_list.append(word)\n",
    "\n",
    "\n",
    "\n",
    "filtered_text = \" \".join(text_list)\n",
    "print(filtered_text)\n"
   ]
  },
  {
   "cell_type": "markdown",
   "metadata": {},
   "source": [
    "## 23. 다음 이미지에 세로로 50px 마다 파란선을 그려주세요\n",
    "- 세로 선이 왼쪽에서 오른쪽으로 50px마다, 두께는 8px"
   ]
  },
  {
   "cell_type": "code",
   "execution_count": 22,
   "metadata": {},
   "outputs": [
    {
     "data": {
      "image/png": "[encoded data removed]",
      "text/plain": [
       "<PIL.Image.Image image mode=RGB size=300x197 at 0x7FE2E6272F50>"
      ]
     },
     "execution_count": 22,
     "metadata": {},
     "output_type": "execute_result"
    }
   ],
   "source": [
    "import cv2\n",
    "import numpy as np\n",
    "import requests\n",
    "from PIL import Image\n",
    "\n",
    "url = \"https://upload.wikimedia.org/wikipedia/commons/thumb/0/0b/Cat_poster_1.jpg/300px-Cat_poster_1.jpg\"\n",
    "\n",
    "image_nparray = np.asarray(bytearray(requests.get(url).content), dtype=np.uint8)\n",
    "img = cv2.imdecode(image_nparray, cv2.IMREAD_COLOR)\n",
    "\n",
    "\n",
    "for i in range(0, 300, 50):\n",
    "    img[:, i:i+8] = (255,0,0)\n",
    "\n",
    "\n",
    "img = cv2.cvtColor(img, cv2.COLOR_BGR2RGB)\n",
    "Image.fromarray(img)"
   ]
  },
  {
   "cell_type": "markdown",
   "metadata": {},
   "source": [
    "## 24. Ocean Proximity 별 median_house_value의 평균을 구해주세요"
   ]
  },
  {
   "cell_type": "code",
   "execution_count": 23,
   "metadata": {},
   "outputs": [],
   "source": [
    "import pandas as pd"
   ]
  },
  {
   "cell_type": "code",
   "execution_count": 24,
   "metadata": {},
   "outputs": [
    {
     "data": {
      "text/html": [
       "<div>\n",
       "<style scoped>\n",
       "    .dataframe tbody tr th:only-of-type {\n",
       "        vertical-align: middle;\n",
       "    }\n",
       "\n",
       "    .dataframe tbody tr th {\n",
       "        vertical-align: top;\n",
       "    }\n",
       "\n",
       "    .dataframe thead th {\n",
       "        text-align: right;\n",
       "    }\n",
       "</style>\n",
       "<table border=\"1\" class=\"dataframe\">\n",
       "  <thead>\n",
       "    <tr style=\"text-align: right;\">\n",
       "      <th></th>\n",
       "      <th>longitude</th>\n",
       "      <th>latitude</th>\n",
       "      <th>housing_median_age</th>\n",
       "      <th>total_rooms</th>\n",
       "      <th>total_bedrooms</th>\n",
       "      <th>population</th>\n",
       "      <th>households</th>\n",
       "      <th>median_income</th>\n",
       "      <th>median_house_value</th>\n",
       "      <th>ocean_proximity</th>\n",
       "    </tr>\n",
       "  </thead>\n",
       "  <tbody>\n",
       "    <tr>\n",
       "      <th>0</th>\n",
       "      <td>-122.23</td>\n",
       "      <td>37.88</td>\n",
       "      <td>41.0</td>\n",
       "      <td>880.0</td>\n",
       "      <td>129.0</td>\n",
       "      <td>322.0</td>\n",
       "      <td>126.0</td>\n",
       "      <td>8.3252</td>\n",
       "      <td>452600.0</td>\n",
       "      <td>NEAR BAY</td>\n",
       "    </tr>\n",
       "    <tr>\n",
       "      <th>1</th>\n",
       "      <td>-122.22</td>\n",
       "      <td>37.86</td>\n",
       "      <td>21.0</td>\n",
       "      <td>7099.0</td>\n",
       "      <td>1106.0</td>\n",
       "      <td>2401.0</td>\n",
       "      <td>1138.0</td>\n",
       "      <td>8.3014</td>\n",
       "      <td>358500.0</td>\n",
       "      <td>NEAR BAY</td>\n",
       "    </tr>\n",
       "    <tr>\n",
       "      <th>2</th>\n",
       "      <td>-122.24</td>\n",
       "      <td>37.85</td>\n",
       "      <td>52.0</td>\n",
       "      <td>1467.0</td>\n",
       "      <td>190.0</td>\n",
       "      <td>496.0</td>\n",
       "      <td>177.0</td>\n",
       "      <td>7.2574</td>\n",
       "      <td>352100.0</td>\n",
       "      <td>NEAR BAY</td>\n",
       "    </tr>\n",
       "    <tr>\n",
       "      <th>3</th>\n",
       "      <td>-122.25</td>\n",
       "      <td>37.85</td>\n",
       "      <td>52.0</td>\n",
       "      <td>1274.0</td>\n",
       "      <td>235.0</td>\n",
       "      <td>558.0</td>\n",
       "      <td>219.0</td>\n",
       "      <td>5.6431</td>\n",
       "      <td>341300.0</td>\n",
       "      <td>NEAR BAY</td>\n",
       "    </tr>\n",
       "    <tr>\n",
       "      <th>4</th>\n",
       "      <td>-122.25</td>\n",
       "      <td>37.85</td>\n",
       "      <td>52.0</td>\n",
       "      <td>1627.0</td>\n",
       "      <td>280.0</td>\n",
       "      <td>565.0</td>\n",
       "      <td>259.0</td>\n",
       "      <td>3.8462</td>\n",
       "      <td>342200.0</td>\n",
       "      <td>NEAR BAY</td>\n",
       "    </tr>\n",
       "  </tbody>\n",
       "</table>\n",
       "</div>"
      ],
      "text/plain": [
       "   longitude  latitude  housing_median_age  total_rooms  total_bedrooms  \\\n",
       "0    -122.23     37.88                41.0        880.0           129.0   \n",
       "1    -122.22     37.86                21.0       7099.0          1106.0   \n",
       "2    -122.24     37.85                52.0       1467.0           190.0   \n",
       "3    -122.25     37.85                52.0       1274.0           235.0   \n",
       "4    -122.25     37.85                52.0       1627.0           280.0   \n",
       "\n",
       "   population  households  median_income  median_house_value ocean_proximity  \n",
       "0       322.0       126.0         8.3252            452600.0        NEAR BAY  \n",
       "1      2401.0      1138.0         8.3014            358500.0        NEAR BAY  \n",
       "2       496.0       177.0         7.2574            352100.0        NEAR BAY  \n",
       "3       558.0       219.0         5.6431            341300.0        NEAR BAY  \n",
       "4       565.0       259.0         3.8462            342200.0        NEAR BAY  "
      ]
     },
     "execution_count": 24,
     "metadata": {},
     "output_type": "execute_result"
    }
   ],
   "source": [
    "df = pd.read_csv('https://raw.githubusercontent.com/yonsei-lotte-2/Main/main/practice/week-08/data/housing.csv')\n",
    "df.head()"
   ]
  },
  {
   "cell_type": "code",
   "execution_count": 25,
   "metadata": {},
   "outputs": [
    {
     "data": {
      "text/plain": [
       "ocean_proximity\n",
       "<1H OCEAN     240084.285464\n",
       "INLAND        124805.392001\n",
       "ISLAND        380440.000000\n",
       "NEAR BAY      259212.311790\n",
       "NEAR OCEAN    249433.977427\n",
       "Name: median_house_value, dtype: float64"
      ]
     },
     "execution_count": 25,
     "metadata": {},
     "output_type": "execute_result"
    }
   ],
   "source": [
    "df.groupby('ocean_proximity')['median_house_value'].mean()"
   ]
  },
  {
   "cell_type": "markdown",
   "metadata": {},
   "source": [
    "## 25. Total bedroom의 결측값을 total_bedrooms의 median 값으로 채워주세요\n",
    "- 다시 df.info를 찍었을 때, 20433이 아닌, 20640이 나와야 합니다!"
   ]
  },
  {
   "cell_type": "code",
   "execution_count": 26,
   "metadata": {},
   "outputs": [
    {
     "name": "stdout",
     "output_type": "stream",
     "text": [
      "<class 'pandas.core.frame.DataFrame'>\n",
      "RangeIndex: 20640 entries, 0 to 20639\n",
      "Data columns (total 10 columns):\n",
      " #   Column              Non-Null Count  Dtype  \n",
      "---  ------              --------------  -----  \n",
      " 0   longitude           20640 non-null  float64\n",
      " 1   latitude            20640 non-null  float64\n",
      " 2   housing_median_age  20640 non-null  float64\n",
      " 3   total_rooms         20640 non-null  float64\n",
      " 4   total_bedrooms      20433 non-null  float64\n",
      " 5   population          20640 non-null  float64\n",
      " 6   households          20640 non-null  float64\n",
      " 7   median_income       20640 non-null  float64\n",
      " 8   median_house_value  20640 non-null  float64\n",
      " 9   ocean_proximity     20640 non-null  object \n",
      "dtypes: float64(9), object(1)\n",
      "memory usage: 1.6+ MB\n"
     ]
    }
   ],
   "source": [
    "df.info()"
   ]
  },
  {
   "cell_type": "code",
   "execution_count": 27,
   "metadata": {},
   "outputs": [
    {
     "name": "stdout",
     "output_type": "stream",
     "text": [
      "<class 'pandas.core.frame.DataFrame'>\n",
      "RangeIndex: 20640 entries, 0 to 20639\n",
      "Data columns (total 10 columns):\n",
      " #   Column              Non-Null Count  Dtype  \n",
      "---  ------              --------------  -----  \n",
      " 0   longitude           20640 non-null  float64\n",
      " 1   latitude            20640 non-null  float64\n",
      " 2   housing_median_age  20640 non-null  float64\n",
      " 3   total_rooms         20640 non-null  float64\n",
      " 4   total_bedrooms      20640 non-null  float64\n",
      " 5   population          20640 non-null  float64\n",
      " 6   households          20640 non-null  float64\n",
      " 7   median_income       20640 non-null  float64\n",
      " 8   median_house_value  20640 non-null  float64\n",
      " 9   ocean_proximity     20640 non-null  object \n",
      "dtypes: float64(9), object(1)\n",
      "memory usage: 1.6+ MB\n"
     ]
    }
   ],
   "source": [
    "#TODO\n",
    "\n",
    "df['total_bedrooms'].fillna(df['total_bedrooms'].median(), inplace=True)\n",
    "\n",
    "df.info()"
   ]
  },
  {
   "cell_type": "markdown",
   "metadata": {},
   "source": [
    "# 수고하셨습니다!\n",
    "과제 제출하는 방식으로 제출해주세요!"
   ]
  }
 ],
 "metadata": {
  "kernelspec": {
   "display_name": "Python 3",
   "language": "python",
   "name": "python3"
  },
  "language_info": {
   "codemirror_mode": {
    "name": "ipython",
    "version": 3
   },
   "file_extension": ".py",
   "mimetype": "text/x-python",
   "name": "python",
   "nbconvert_exporter": "python",
   "pygments_lexer": "ipython3",
   "version": "3.7.6"
  }
 },
 "nbformat": 4,
 "nbformat_minor": 4
}
